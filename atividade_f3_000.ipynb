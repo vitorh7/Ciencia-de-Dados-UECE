{
  "nbformat": 4,
  "nbformat_minor": 0,
  "metadata": {
    "colab": {
      "provenance": [],
      "toc_visible": true,
      "authorship_tag": "ABX9TyPp7fTJd612cVmOIGlqLBa9",
      "include_colab_link": true
    },
    "kernelspec": {
      "name": "python3",
      "display_name": "Python 3"
    },
    "language_info": {
      "name": "python"
    }
  },
  "cells": [
    {
      "cell_type": "markdown",
      "metadata": {
        "id": "view-in-github",
        "colab_type": "text"
      },
      "source": [
        "<a href=\"https://colab.research.google.com/github/vitorh7/Ciencia-de-Dados-UECE/blob/main/atividade_f3_000.ipynb\" target=\"_parent\"><img src=\"https://colab.research.google.com/assets/colab-badge.svg\" alt=\"Open In Colab\"/></a>"
      ]
    },
    {
      "cell_type": "code",
      "execution_count": null,
      "metadata": {
        "colab": {
          "base_uri": "https://localhost:8080/"
        },
        "id": "nQLw-I0rvY4F",
        "outputId": "c2b132e9-2203-4972-a399-52e2f1e08c2b"
      },
      "outputs": [
        {
          "output_type": "stream",
          "name": "stdout",
          "text": [
            "Digite uma senha numérica de 4 dígitos:  2345\n",
            "Senha incorreta, tentativas restantes: 2\n",
            "Digite uma senha numérica de 4 dígitos:  fortaleza\n",
            "Erro: Insira um número válido, tentativas restantes: 1.\n",
            "Digite uma senha numérica de 4 dígitos:  5678\n",
            "Senha incorreta, tentativas restantes: 0\n",
            "Acesso bloqueado!\n"
          ]
        }
      ],
      "source": [
        "# Atividade Fórum 03 - Variáveis, Operadores e Estruturas Condicionais\n",
        "# Objetivo era escrever um código que usasse valores booleanos, então criei um verificador de senha.\n",
        "\n",
        "senha = None\n",
        "tentativas = 3  # Número de tentativas\n",
        "\n",
        "# Laço que repete até o usuário errar 3 vezes\n",
        "while tentativas > 0:\n",
        "    try: #Estrutura de controle de fluxo, verifica se ocorre algum erro dentro dele,\n",
        "    #como no caso do input receber valores diferentes de números inteiros, se ocorrer, passa para o except.\n",
        "        senha = int(input(\"Digite uma senha numérica de 4 dígitos:  \"))\n",
        "\n",
        "        if senha == 2025:\n",
        "            print(\"Acesso liberado!\")  # Senha correta\n",
        "            break  # Encerra o laço\n",
        "\n",
        "        elif senha > 9999:\n",
        "            tentativas -= 1  # Reduz tentativas se a senha tiver mais de 4 dígitos\n",
        "            print(f\"A senha deve ter até 4 dígitos, tentativas restantes: {tentativas}\")\n",
        "\n",
        "        else:\n",
        "            tentativas -= 1  # Reduz tentativas para senha errada\n",
        "            print(f\"Senha incorreta, tentativas restantes: {tentativas}\")\n",
        "\n",
        "        if tentativas > 0:\n",
        "            continue  # Continua pedindo a senha\n",
        "\n",
        "    except ValueError: #No except, ele vai verificar se há um ValueError, que ocorre quando algum dado não é seu tipo correto.\n",
        "        tentativas -= 1  # Reduz tentativas.\n",
        "        print(f\"Erro: Insira um número válido, tentativas restantes: {tentativas}.\")\n",
        "\n",
        "# Bloqueia o acesso se o número de tentativas chegar a 0\n",
        "if tentativas == 0:\n",
        "    print(\"Acesso bloqueado!\")\n"
      ]
    }
  ]
}