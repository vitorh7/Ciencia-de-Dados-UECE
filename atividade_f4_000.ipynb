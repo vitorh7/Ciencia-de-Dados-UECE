{
  "nbformat": 4,
  "nbformat_minor": 0,
  "metadata": {
    "colab": {
      "provenance": [],
      "authorship_tag": "ABX9TyPAvaXFCcz7BgCbHqLXuEc9",
      "include_colab_link": true
    },
    "kernelspec": {
      "name": "python3",
      "display_name": "Python 3"
    },
    "language_info": {
      "name": "python"
    }
  },
  "cells": [
    {
      "cell_type": "markdown",
      "metadata": {
        "id": "view-in-github",
        "colab_type": "text"
      },
      "source": [
        "<a href=\"https://colab.research.google.com/github/vitorh7/Ciencia-de-Dados-UECE/blob/main/atividade_f4_000.ipynb\" target=\"_parent\"><img src=\"https://colab.research.google.com/assets/colab-badge.svg\" alt=\"Open In Colab\"/></a>"
      ]
    },
    {
      "cell_type": "code",
      "execution_count": null,
      "metadata": {
        "colab": {
          "base_uri": "https://localhost:8080/"
        },
        "id": "smmckfAKRKHJ",
        "outputId": "becda274-87ca-44ec-db21-42c11cd2ed69"
      },
      "outputs": [
        {
          "output_type": "stream",
          "name": "stdout",
          "text": [
            "1\n",
            "2\n",
            "3\n",
            "4\n",
            "5\n"
          ]
        }
      ],
      "source": [
        "#Atividade Capacita Brasil C-Jovem UECE\n",
        "#Crie um programa que use um laço for para imprimir os números de 1 a 5 no console.\n",
        "numero = 1\n",
        "while numero <= 5:\n",
        "  print(numero)\n",
        "  numero+=1"
      ]
    },
    {
      "cell_type": "code",
      "source": [
        "#Escreva um programa que declare uma lista com os números [10, 20, 30, 40, 50] e exiba o primeiro elemento\n",
        "lista = [10, 20, 30, 40, 50]\n",
        "print(lista[0])"
      ],
      "metadata": {
        "colab": {
          "base_uri": "https://localhost:8080/"
        },
        "id": "bEYHeFtTSPtD",
        "outputId": "83948d5e-d0cf-47e3-f202-33a389501d45"
      },
      "execution_count": null,
      "outputs": [
        {
          "output_type": "stream",
          "name": "stdout",
          "text": [
            "10\n"
          ]
        }
      ]
    },
    {
      "cell_type": "code",
      "source": [
        "#Faça um programa que use um laço while para somar todos os números de 1 a 10 e exiba o resultado no console.\n",
        "soma = 0\n",
        "contador = 1\n",
        "while contador <= 10:\n",
        "  soma += contador\n",
        "  contador += 1\n",
        "print(f\"O resultado da soma dos numeros de 1 a 10 é: {soma}\")"
      ],
      "metadata": {
        "colab": {
          "base_uri": "https://localhost:8080/"
        },
        "id": "c6tUZCeDSnxN",
        "outputId": "0665d4d3-2075-4be0-a812-65f23fc9134a"
      },
      "execution_count": null,
      "outputs": [
        {
          "output_type": "stream",
          "name": "stdout",
          "text": [
            "O resultado da soma dos numeros de 1 a 10 é: 55\n"
          ]
        }
      ]
    },
    {
      "cell_type": "code",
      "source": [
        "#Crie um programa que declare um dicionário com as seguintes chaves e valores: {\"nome\": \"Ana\", \"idade\": 25, \"cidade\": \"Fortaleza\"} e exiba o valor associado à chave \"idade\"\n",
        "dicionario = {\"nome\": \"Ana\", \"idade\": 25, \"cidade\": \"Fortaleza\"}\n",
        "print(dicionario[\"idade\"])"
      ],
      "metadata": {
        "colab": {
          "base_uri": "https://localhost:8080/"
        },
        "id": "1xMoyKvlTfs-",
        "outputId": "a1fe1d62-2223-4d21-d987-63d42bd0dd8d"
      },
      "execution_count": null,
      "outputs": [
        {
          "output_type": "stream",
          "name": "stdout",
          "text": [
            "25\n"
          ]
        }
      ]
    },
    {
      "cell_type": "code",
      "source": [
        "# Escreva um programa que inverta uma string utilizando um laço for. Por exemplo, para a string \"Python\", o resultado deve ser \"nohtyP\".\n"
      ],
      "metadata": {
        "colab": {
          "base_uri": "https://localhost:8080/"
        },
        "id": "IdDFMW66UWBI",
        "outputId": "877b5d26-c812-4bb9-8275-58d35e5a41a4"
      },
      "execution_count": null,
      "outputs": [
        {
          "output_type": "stream",
          "name": "stdout",
          "text": [
            "\n"
          ]
        }
      ]
    },
    {
      "source": [
        "# Escreva um programa que inverta uma string utilizando um laço for. Por exemplo, para a string \"Python\", o resultado deve ser \"nohtyP\".\n",
        "palavra = \"Python\"\n",
        "invertida = \"\"\n",
        "for letra in palavra:\n",
        "  invertida = letra + invertida\n",
        "print(invertida)"
      ],
      "cell_type": "code",
      "metadata": {
        "colab": {
          "base_uri": "https://localhost:8080/"
        },
        "id": "VS2YeP8CbFb5",
        "outputId": "bd55a563-bf99-4d92-bfe6-10cf53eddece"
      },
      "execution_count": null,
      "outputs": [
        {
          "output_type": "stream",
          "name": "stdout",
          "text": [
            "nohtyP\n"
          ]
        }
      ]
    },
    {
      "cell_type": "code",
      "source": [
        "#Escreva um programa que calcule a frequência de cada caractere em uma string. Por exemplo, na string \"banana\", o programa deve exibir: {'b': 1, 'a': 3, 'n': 2}\n",
        "palavra = \"banana\"\n",
        "frequencia = {}\n",
        "for letra in palavra:\n",
        "  if letra in frequencia:\n",
        "    frequencia[letra] += 1\n",
        "  else:\n",
        "    frequencia[letra] = 1\n",
        "print(frequencia)"
      ],
      "metadata": {
        "colab": {
          "base_uri": "https://localhost:8080/"
        },
        "id": "ueY7zRiwbov2",
        "outputId": "c27ff75f-4b1a-47ff-8b3c-fa6220a4da40"
      },
      "execution_count": null,
      "outputs": [
        {
          "output_type": "stream",
          "name": "stdout",
          "text": [
            "{'b': 1, 'a': 3, 'n': 2}\n"
          ]
        }
      ]
    }
  ]
}