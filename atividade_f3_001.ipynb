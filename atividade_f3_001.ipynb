{
  "nbformat": 4,
  "nbformat_minor": 0,
  "metadata": {
    "colab": {
      "provenance": [],
      "authorship_tag": "ABX9TyPjwdFC/c8DrUduPCIlEH16",
      "include_colab_link": true
    },
    "kernelspec": {
      "name": "python3",
      "display_name": "Python 3"
    },
    "language_info": {
      "name": "python"
    }
  },
  "cells": [
    {
      "cell_type": "markdown",
      "metadata": {
        "id": "view-in-github",
        "colab_type": "text"
      },
      "source": [
        "<a href=\"https://colab.research.google.com/github/vitorh7/Ciencia-de-Dados-UECE/blob/main/atividade_f3_002.ipynb\" target=\"_parent\"><img src=\"https://colab.research.google.com/assets/colab-badge.svg\" alt=\"Open In Colab\"/></a>"
      ]
    },
    {
      "cell_type": "code",
      "execution_count": null,
      "metadata": {
        "colab": {
          "base_uri": "https://localhost:8080/"
        },
        "id": "Wq6dAB-rALSz",
        "outputId": "53926f6e-7639-46d2-9c15-22d9b84d35b1"
      },
      "outputs": [
        {
          "output_type": "stream",
          "name": "stdout",
          "text": [
            "15 é maior que 10?\n",
            "Sim\n"
          ]
        }
      ],
      "source": [
        "#Atividade Oficina 03 - Variáveis, Operadores e Estruturas Condicionais\n",
        "# Crie um programa que verifique se o número 15 é maior que 10 e exiba \"Sim\" ou \"Não\" no console.\n",
        "print(\"15 é maior que 10?\")\n",
        "if 15 > 10:\n",
        "  print(\"Sim\")\n",
        "else:\n",
        "  print(\"Não\")"
      ]
    },
    {
      "cell_type": "code",
      "source": [
        "#Escreva um programa que use o operador ** para calcular 2³ e exiba o resultado.\n",
        "print(2**3)"
      ],
      "metadata": {
        "colab": {
          "base_uri": "https://localhost:8080/"
        },
        "id": "tjpOtounBKmn",
        "outputId": "a7346328-13b6-42fc-9d5f-171599569786"
      },
      "execution_count": null,
      "outputs": [
        {
          "output_type": "stream",
          "name": "stdout",
          "text": [
            "8\n"
          ]
        }
      ]
    },
    {
      "cell_type": "code",
      "source": [
        "#Crie um programa que use o operador * para repetir a string \"Oi!\" cinco vezes.\n",
        "print (\"Oi, \"*5)"
      ],
      "metadata": {
        "colab": {
          "base_uri": "https://localhost:8080/"
        },
        "id": "EMLYnrpTBcwA",
        "outputId": "7541c48c-632f-48b3-d029-06fbcbfe304a"
      },
      "execution_count": null,
      "outputs": [
        {
          "output_type": "stream",
          "name": "stdout",
          "text": [
            "Oi, Oi, Oi, Oi, Oi, \n"
          ]
        }
      ]
    },
    {
      "cell_type": "code",
      "source": [
        "#Escreva um programa que calcule a média de três números inteiros 10, 20 e 30, e exiba no console se a média é maior, menor ou igual a 20\n",
        "media = (10+20+30)/3\n",
        "if media < 20:\n",
        "  print(f\"Média entre 10, 20 e 30 é menor que 20: {media: .1f}\")\n",
        "elif media == 20:\n",
        "  print(f\"Média entre 10, 20 e 30 é igual a 20: {media: .1f}\")\n",
        "else:\n",
        "  print(f\"Média entre 10, 20 e 30 é menor que 20: {media: .1f}\")"
      ],
      "metadata": {
        "colab": {
          "base_uri": "https://localhost:8080/"
        },
        "id": "NXIAzKBxCVYP",
        "outputId": "03faf383-7002-4869-8363-0dd324a3bd01"
      },
      "execution_count": null,
      "outputs": [
        {
          "output_type": "stream",
          "name": "stdout",
          "text": [
            "Média entre 10, 20 e 30 é igual a 20:  20.0\n"
          ]
        }
      ]
    },
    {
      "cell_type": "code",
      "source": [
        "#Crie um programa que determine se o número 45 é divisível por 3 e por 5 simultaneamente. O programa deve exibir \"Divisível por 3 e 5\" ou \"Não é divisível .\n",
        "if (45%3) == 0 and (45%5) == 0:\n",
        "  print(\"45 é divisível por 3 e 5 simultaneamente.\")\n",
        "\n",
        "else:\n",
        "  print(\"NÃO É\")"
      ],
      "metadata": {
        "colab": {
          "base_uri": "https://localhost:8080/"
        },
        "id": "1vngBzpfDbdg",
        "outputId": "f42806df-9c15-4167-c7a1-03a2c3f66db6"
      },
      "execution_count": null,
      "outputs": [
        {
          "output_type": "stream",
          "name": "stdout",
          "text": [
            "45 é divisível por 3 e 5 simultaneamente.\n"
          ]
        }
      ]
    }
  ]
}
